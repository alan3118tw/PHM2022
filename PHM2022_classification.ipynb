{
 "cells": [
  {
   "cell_type": "code",
   "execution_count": null,
   "id": "0cd3e325-e89c-4ed1-81f3-907703377208",
   "metadata": {},
   "outputs": [],
   "source": [
    "# Import libraries\n",
    "import numpy as np\n",
    "import pandas as pd\n",
    "import matplotlib.pyplot as plt\n",
    "import seaborn as sns\n",
    "import glob\n",
    "%matplotlib inline\n",
    "from pycaret.classification import *"
   ]
  },
  {
   "cell_type": "code",
   "execution_count": null,
   "id": "31ee9bc4-76d1-48a4-992f-a254620dd8f9",
   "metadata": {},
   "outputs": [],
   "source": [
    "# Three sensor data string\n",
    "sensorType = ['data_pdmp', 'data_pin', 'data_po']\n",
    "\n",
    "def read_data(sensorType, max_lengths):\n",
    "    '''\n",
    "        Read data.\n",
    "        return data(pandas dataframe)\n",
    "    '''\n",
    "    data = []\n",
    "    # Find the data files with different types(sensors).\n",
    "    for i in range(len(sensorType)):\n",
    "        targetPattern = \"training_data/\"+sensorType[i]+\"*.csv\"\n",
    "        fileList = glob.glob(targetPattern)\n",
    "        # Read data\n",
    "        column_names = [j for j in range(0, max_lengths[i])]\n",
    "        df = pd.concat((pd.read_csv(file, header=None, delimiter=',', names=column_names) for file in fileList), ignore_index=True)\n",
    "        #data = pd.read_csv(\"../datasets/features/dataset.csv\", header=None, delimiter=',', names=column_names)\n",
    "        data.append(df)\n",
    "    return data\n",
    "    \n",
    "\n",
    "def calc_max_length(sensorType):\n",
    "    '''\n",
    "        Calculate max length of time series with different data.\n",
    "        return max_column_count(List[int])\n",
    "    '''\n",
    "    max_column_count = []\n",
    "    for i in range(len(sensorType)):\n",
    "        targetPattern = \"training_data/\"+sensorType[i]+\"*.csv\"\n",
    "        fileList = glob.glob(targetPattern)\n",
    "        largest_column_count = 0\n",
    "        # Read data\n",
    "        for csv_file in fileList:\n",
    "            with open(csv_file, 'r') as temp_f:\n",
    "                lines = temp_f.readlines()\n",
    "                for l in lines:\n",
    "                    column_count = len(l.split(',')) + 1\n",
    "                    largest_column_count = column_count if largest_column_count < column_count else largest_column_count\n",
    "            temp_f.close()\n",
    "        max_column_count.append(largest_column_count)\n",
    "    return max_column_count\n",
    "\n",
    "# 取得最長的資料長度 讓pandas讀取時保持一致的Columns數量 方便後續的資料處理\n",
    "max_lengths = calc_max_length(sensorType)\n",
    "data = read_data(sensorType, max_lengths)\n",
    "# 合併資料並刪除重複的Label\n",
    "df = pd.concat((data[0], data[1].drop([0], axis=1), data[2].drop([0], axis=1)), axis='columns')\n",
    "df.columns = [str(i) for i in range(df.shape[1])]"
   ]
  },
  {
   "cell_type": "code",
   "execution_count": null,
   "id": "a2ca3a92-22d3-46da-a703-f1364a5171c5",
   "metadata": {},
   "outputs": [],
   "source": [
    "# 讓PyCaret自動選擇前處理方法\n",
    "s = setup(df, target = '0')"
   ]
  },
  {
   "cell_type": "code",
   "execution_count": null,
   "id": "ab4b4191-23f9-411f-8d22-f2ba60e5464d",
   "metadata": {},
   "outputs": [],
   "source": [
    "# 以不同Model的預設參數進行訓練  預設為10-fold Cross validation\n",
    "best = compare_models()"
   ]
  }
 ],
 "metadata": {
  "kernelspec": {
   "display_name": "Python 3 (ipykernel)",
   "language": "python",
   "name": "python3"
  },
  "language_info": {
   "codemirror_mode": {
    "name": "ipython",
    "version": 3
   },
   "file_extension": ".py",
   "mimetype": "text/x-python",
   "name": "python",
   "nbconvert_exporter": "python",
   "pygments_lexer": "ipython3",
   "version": "3.8.13"
  }
 },
 "nbformat": 4,
 "nbformat_minor": 5
}
